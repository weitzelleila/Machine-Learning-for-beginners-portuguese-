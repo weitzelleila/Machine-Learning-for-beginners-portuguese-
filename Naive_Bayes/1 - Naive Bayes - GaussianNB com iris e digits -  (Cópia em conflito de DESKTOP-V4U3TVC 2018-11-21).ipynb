{
 "cells": [
  {
   "cell_type": "markdown",
   "metadata": {},
   "source": [
    "<br/>\n",
    "<h1 align=\"center\"> <span style = 'color:red'> Naive Bayes com IRIS e DIGITS dataset\n",
    "</span> </h1>\n",
    "<br/>\n",
    "\n",
    "\n",
    "\n",
    "* Naive Bayes é um classificador probabilístico inspirado no teorema de Bayes, sob uma suposição simples de que os **atributos são condicionalmente independentes** (independência de features), por isso o nome naive = ingênuo\n",
    "<br/>\n",
    "\n",
    "* Naive Bayes é um algoritmo muito simples de implementar e bons resultados são obtidos na maioria dos casos.\n",
    "<br/>\n",
    "\n",
    "* Ele pode ser facilmente escalável para conjuntos de dados maiores, já que ele leva um tempo linear, em vez de uma aproximação iterativa alta, como é usado para muitos outros tipos de classificadores.\n",
    "<br/>\n",
    "\n",
    "* Naive Bayes pode sofrer de um problema chamado problema de **probabilidade zero**. \n",
    "<br/>\n",
    "\n",
    "* Quando a probabilidade condicional é **zero** para um determinado atributo, ele não fornece uma previsão válida. Isso precisa ser corrigido explicitamente usando um **estimador Laplaciano**. Não será abordado aqui\n",
    "<br/>\n",
    "\n",
    "* Utiliza dados de treino para formar um **modelo probabilístico** baseado na evidência das features nos dados.\n",
    "<br/>\n",
    "\n",
    "\n",
    "\n"
   ]
  },
  {
   "cell_type": "markdown",
   "metadata": {},
   "source": [
    "<img src=\"bayes.jpg\" width=\"700\" height=\"600\" align=\"center\"/>"
   ]
  },
  {
   "cell_type": "markdown",
   "metadata": {},
   "source": [
    "<h2 align=\"center\"> <span style = 'color:blue'> GaussianNB\n",
    "</span> </h2>\n",
    "<br/>\n",
    "\n",
    "\n",
    "\n",
    "*  Por causa da suposição da distribuição normal , é usado nos casos em que todos os recursos são contínuos\n",
    "\n",
    "\n",
    "* A base de dados IRIS todos os recursos possuem dados contínuos dados em contimetros\n",
    "\n",
    "\n",
    "\n",
    "* A base de dados DIGITS os recursos são categoricos --- matriz de pixel\n",
    "\n",
    "\n"
   ]
  },
  {
   "cell_type": "markdown",
   "metadata": {},
   "source": [
    "<br/>\n",
    "<h3 align=\"left\"> <span style = 'color:green'>  Importando as bibliotecas   </span> </h3>"
   ]
  },
  {
   "cell_type": "code",
   "execution_count": 1,
   "metadata": {},
   "outputs": [],
   "source": [
    "import pandas as pd\n",
    "import numpy as np\n",
    "from matplotlib import pyplot as plt\n",
    "%matplotlib inline\n",
    "from sklearn import datasets\n",
    "\n",
    "from sklearn.naive_bayes import GaussianNB\n"
   ]
  },
  {
   "cell_type": "markdown",
   "metadata": {},
   "source": [
    "\n",
    "\n",
    "<br/>\n",
    "<h3 align=\"left\"> <span style = 'color:green'>  Parâmetros que popdem ser passados na função  </span> </h3>\n",
    "\n",
    "\n",
    "\n",
    "\n",
    "\n",
    "\n",
    "`priors : array-like, shape (n_classes,)`: Probabilidades anteriores das classes. Se especificado, os antecedentes não são ajustados de acordo com os dados.\n",
    "\n",
    "\n",
    "        *  Probabilidade de um evento a partir do conhecimento a priori (ou a crença inicial na ocorrência de um evento)\n",
    "\n",
    "\n",
    "\n",
    "`var_smoothing : float, opcional (padrão = 1e-9)`: Porção da maior variabilidade de todos os recursos adicionados\n",
    "\n",
    "\n",
    "\n",
    "\n",
    "\n",
    "\n",
    "* Exemplo: \n",
    "\n",
    "\n",
    "`GaussianNB(priors=None, var_smoothing=1e-09)` : não utiliza probabilidades anteriores, e smoothing valor padrão"
   ]
  },
  {
   "cell_type": "markdown",
   "metadata": {},
   "source": [
    "<br/>\n",
    "<h3 align=\"left\"> <span style = 'color:green'>  Importando as bases de dados   </span> </h3>"
   ]
  },
  {
   "cell_type": "code",
   "execution_count": 2,
   "metadata": {},
   "outputs": [],
   "source": [
    "# Base de dados iris -> tem 3 recursos de saída = setosa, virginica e versicolor\n",
    "iris = datasets.load_iris()\n",
    "\n",
    "\n",
    "# base de dados digits tem 10 saidas para os numeros de 0 até 9\n",
    "digits = datasets.load_digits()"
   ]
  },
  {
   "cell_type": "markdown",
   "metadata": {},
   "source": [
    "<br/>\n",
    "<h3 align=\"left\"> <span style = 'color:green'> Nomeando a entrada da saida   </span> </h3>\n",
    "\n",
    "\n",
    "\n",
    "* X é a entrada dos dados (X maiúscula)\n",
    "\n",
    "\n",
    "* y é a saída dos dados (y minuscula)"
   ]
  },
  {
   "cell_type": "code",
   "execution_count": 9,
   "metadata": {},
   "outputs": [],
   "source": [
    "from sklearn.model_selection import train_test_split\n",
    "\n",
    "\n",
    "X = iris.data\n",
    "y = iris.target\n",
    "\n",
    "\n",
    "\n",
    "X1=digits.data\n",
    "y1=digits.target"
   ]
  },
  {
   "cell_type": "markdown",
   "metadata": {},
   "source": [
    "<br/>\n",
    "<h3 align=\"left\"> <span style = 'color:green'> Dividindo as bases em treinamento e teste     </span> </h3>"
   ]
  },
  {
   "cell_type": "code",
   "execution_count": 10,
   "metadata": {},
   "outputs": [],
   "source": [
    "# base de dados iris\n",
    "X_train, X_test, y_train, y_test = train_test_split(X, y)\n",
    "\n",
    "\n",
    "#base de dados digits\n",
    "X1_train, X1_test, y1_train, y1_test = train_test_split(X1, y1)"
   ]
  },
  {
   "cell_type": "markdown",
   "metadata": {},
   "source": [
    "<br/>\n",
    "<h3 align=\"left\"> <span style = 'color:green'>  Criando o modelo e treinando o modelo para as duas bases   </span> </h3>"
   ]
  },
  {
   "cell_type": "code",
   "execution_count": 11,
   "metadata": {},
   "outputs": [
    {
     "data": {
      "text/plain": [
       "GaussianNB(priors=None, var_smoothing=1e-09)"
      ]
     },
     "execution_count": 11,
     "metadata": {},
     "output_type": "execute_result"
    }
   ],
   "source": [
    "#criando o objeto do modelo para base iris\n",
    "nb_iris = GaussianNB()\n",
    "\n",
    "#criando o objeto do modelo para base digits\n",
    "nb_digits = GaussianNB()\n",
    "\n",
    "# Treinando o modelo para iris\n",
    "nb_iris.fit(X_train, y_train)\n",
    "\n",
    "# Treinando o modelo para digits\n",
    "nb_digits.fit(X1_train, y1_train)"
   ]
  },
  {
   "cell_type": "markdown",
   "metadata": {},
   "source": [
    "<br/>\n",
    "<h3 align=\"left\"> <span style = 'color:green'>  Calculando a precisão média de cada base   </span> </h3>\n",
    "\n",
    "<br/>\n",
    "\n",
    "\n",
    "* `score(X, y)`: Retorna a precisão média nos dados e rótulos de treinamento ou teste fornecidos.\n",
    "\n",
    "\n",
    "\n",
    "\n",
    "\n"
   ]
  },
  {
   "cell_type": "code",
   "execution_count": 12,
   "metadata": {},
   "outputs": [
    {
     "data": {
      "text/plain": [
       "GaussianNB(priors=None, var_smoothing=1e-09)"
      ]
     },
     "execution_count": 12,
     "metadata": {},
     "output_type": "execute_result"
    }
   ],
   "source": [
    "#  base iris\n",
    "nb_iris.score(X_train, y_train)\n",
    "nb_iris.fit(X_train, y_train)\n",
    "\n",
    "\n",
    "#  base digits\n",
    "nb_digits.score(X1_train, y1_train)\n",
    "nb_digits.fit(X1_train, y1_train)"
   ]
  },
  {
   "cell_type": "code",
   "execution_count": 13,
   "metadata": {},
   "outputs": [
    {
     "data": {
      "text/plain": [
       "array([2, 0, 0, 1, 1, 0, 1, 2, 1, 0, 2, 0, 0, 1, 2, 2, 1, 2, 1, 2, 1, 2,\n",
       "       1, 1, 2, 1, 2, 1, 2, 1, 1, 0, 0, 2, 1, 1, 0, 1])"
      ]
     },
     "execution_count": 13,
     "metadata": {},
     "output_type": "execute_result"
    }
   ],
   "source": [
    "# predizendo as classes para a base iris\n",
    "y_predict = nb_iris.predict(X_test)\n",
    "y_predict\n"
   ]
  },
  {
   "cell_type": "code",
   "execution_count": 14,
   "metadata": {},
   "outputs": [
    {
     "data": {
      "text/plain": [
       "array([0, 6, 1, 6, 6, 0, 9, 4, 9, 7, 5, 7, 0, 4, 7, 1, 5, 0, 4, 9, 0, 4,\n",
       "       6, 6, 6, 6, 2, 7, 9, 7, 3, 1, 8, 7, 9, 3, 5, 6, 4, 7, 2, 0, 8, 5,\n",
       "       7, 1, 7, 1, 1, 4, 5, 8, 4, 6, 0, 4, 3, 0, 3, 5, 8, 9, 7, 6, 3, 4,\n",
       "       4, 8, 4, 6, 4, 2, 3, 6, 8, 3, 8, 9, 4, 3, 8, 9, 7, 5, 4, 1, 1, 6,\n",
       "       0, 0, 1, 4, 7, 6, 5, 8, 0, 8, 4, 8, 8, 1, 3, 9, 3, 1, 3, 8, 6, 3,\n",
       "       9, 2, 4, 3, 6, 8, 5, 6, 4, 4, 1, 3, 7, 8, 7, 1, 4, 4, 7, 6, 0, 9,\n",
       "       8, 3, 0, 1, 6, 1, 7, 1, 8, 7, 5, 4, 6, 1, 3, 3, 2, 6, 2, 2, 6, 8,\n",
       "       8, 7, 0, 5, 5, 6, 5, 8, 7, 8, 1, 9, 5, 8, 0, 7, 8, 8, 9, 6, 4, 4,\n",
       "       8, 1, 3, 8, 2, 3, 2, 6, 5, 5, 5, 7, 4, 6, 9, 4, 0, 9, 7, 5, 9, 6,\n",
       "       3, 8, 8, 4, 7, 7, 6, 3, 6, 9, 7, 0, 7, 5, 5, 3, 8, 7, 6, 3, 1, 0,\n",
       "       5, 7, 7, 4, 1, 3, 5, 9, 8, 7, 3, 9, 1, 7, 2, 1, 5, 3, 4, 1, 5, 2,\n",
       "       1, 5, 0, 2, 0, 8, 5, 1, 9, 4, 1, 1, 1, 7, 8, 4, 2, 2, 0, 8, 0, 8,\n",
       "       2, 8, 5, 6, 0, 8, 3, 1, 7, 6, 3, 1, 1, 0, 9, 3, 7, 7, 2, 3, 4, 5,\n",
       "       8, 4, 8, 9, 7, 9, 7, 6, 5, 3, 7, 2, 0, 4, 8, 1, 7, 6, 4, 4, 7, 9,\n",
       "       9, 1, 0, 9, 7, 5, 1, 2, 9, 0, 9, 8, 6, 7, 7, 6, 3, 7, 2, 6, 2, 6,\n",
       "       4, 1, 5, 6, 0, 9, 1, 9, 8, 3, 6, 6, 7, 3, 9, 7, 2, 7, 4, 5, 8, 7,\n",
       "       2, 8, 5, 7, 7, 2, 4, 3, 0, 8, 3, 0, 2, 7, 2, 0, 0, 7, 7, 6, 5, 7,\n",
       "       8, 5, 3, 0, 0, 5, 6, 1, 4, 2, 1, 6, 8, 2, 6, 8, 3, 5, 6, 0, 8, 4,\n",
       "       9, 7, 6, 9, 8, 3, 8, 6, 4, 1, 7, 8, 9, 3, 1, 5, 8, 8, 0, 1, 4, 6,\n",
       "       8, 5, 0, 7, 6, 8, 4, 8, 9, 2, 0, 8, 8, 8, 3, 9, 5, 4, 8, 6, 7, 0,\n",
       "       5, 0, 9, 0, 0, 5, 5, 2, 5, 0])"
      ]
     },
     "execution_count": 14,
     "metadata": {},
     "output_type": "execute_result"
    }
   ],
   "source": [
    "# predizendo as classes para a base digits\n",
    "\n",
    "y1_predict = nb_digits.predict(X1_test)\n",
    "y1_predict\n"
   ]
  },
  {
   "cell_type": "code",
   "execution_count": 15,
   "metadata": {},
   "outputs": [
    {
     "data": {
      "text/plain": [
       "array([2, 0, 0, 1, 1, 0, 1, 1, 1, 0, 2, 0, 0, 1, 2, 2, 1, 2, 1, 2, 1, 2,\n",
       "       1, 1, 2, 1, 2, 1, 2, 1, 2, 0, 0, 2, 1, 1, 0, 1])"
      ]
     },
     "execution_count": 15,
     "metadata": {},
     "output_type": "execute_result"
    }
   ],
   "source": [
    "# Classe *atual* na base de teste iris\n",
    "y_test"
   ]
  },
  {
   "cell_type": "code",
   "execution_count": 16,
   "metadata": {},
   "outputs": [
    {
     "data": {
      "text/plain": [
       "array([0, 6, 4, 6, 6, 0, 9, 4, 9, 5, 5, 7, 0, 4, 3, 1, 5, 0, 4, 9, 0, 4,\n",
       "       6, 6, 1, 6, 2, 7, 9, 3, 3, 1, 8, 7, 9, 3, 5, 6, 4, 7, 2, 0, 8, 5,\n",
       "       7, 1, 8, 1, 1, 4, 5, 9, 4, 6, 0, 9, 3, 0, 3, 5, 8, 9, 7, 6, 3, 4,\n",
       "       4, 8, 4, 6, 4, 2, 3, 6, 8, 3, 8, 9, 7, 3, 3, 9, 9, 5, 4, 8, 1, 6,\n",
       "       0, 0, 1, 4, 7, 6, 5, 8, 0, 8, 4, 8, 9, 1, 3, 9, 3, 1, 3, 8, 6, 3,\n",
       "       9, 2, 4, 3, 6, 2, 5, 6, 4, 4, 1, 3, 9, 8, 8, 1, 4, 4, 7, 6, 0, 9,\n",
       "       8, 8, 9, 8, 6, 1, 7, 1, 8, 3, 5, 4, 6, 1, 3, 3, 2, 6, 2, 2, 6, 3,\n",
       "       8, 7, 0, 5, 5, 6, 5, 8, 7, 1, 1, 9, 5, 8, 0, 4, 8, 2, 9, 6, 4, 4,\n",
       "       8, 2, 3, 8, 2, 3, 2, 6, 5, 4, 5, 7, 4, 6, 9, 4, 0, 9, 7, 5, 9, 6,\n",
       "       3, 8, 8, 4, 7, 7, 9, 3, 6, 3, 5, 0, 4, 5, 5, 3, 1, 7, 6, 3, 1, 0,\n",
       "       5, 9, 7, 4, 1, 3, 5, 7, 1, 7, 3, 9, 1, 9, 2, 1, 5, 3, 4, 1, 5, 2,\n",
       "       1, 5, 0, 2, 0, 8, 5, 1, 9, 4, 1, 1, 1, 7, 8, 4, 2, 2, 0, 8, 0, 4,\n",
       "       2, 8, 5, 6, 0, 2, 3, 1, 7, 6, 3, 1, 1, 0, 9, 3, 7, 7, 2, 3, 4, 8,\n",
       "       8, 4, 2, 9, 9, 9, 7, 6, 5, 3, 7, 2, 0, 4, 8, 1, 7, 6, 4, 4, 7, 9,\n",
       "       9, 1, 0, 9, 8, 5, 2, 2, 9, 0, 9, 2, 6, 7, 7, 6, 3, 7, 2, 6, 2, 6,\n",
       "       4, 1, 5, 6, 0, 9, 1, 9, 2, 2, 6, 6, 7, 3, 9, 4, 2, 7, 4, 5, 8, 3,\n",
       "       2, 2, 5, 7, 7, 2, 4, 3, 0, 8, 3, 0, 2, 7, 2, 0, 0, 7, 1, 6, 5, 7,\n",
       "       1, 3, 3, 0, 0, 5, 6, 1, 4, 2, 1, 6, 8, 2, 6, 2, 3, 5, 6, 0, 3, 4,\n",
       "       9, 7, 6, 9, 5, 3, 1, 6, 4, 1, 7, 8, 9, 9, 1, 5, 3, 8, 0, 1, 4, 6,\n",
       "       8, 5, 0, 4, 6, 8, 4, 8, 1, 2, 0, 8, 8, 8, 3, 9, 5, 4, 2, 6, 7, 0,\n",
       "       5, 0, 9, 0, 0, 5, 5, 2, 5, 0])"
      ]
     },
     "execution_count": 16,
     "metadata": {},
     "output_type": "execute_result"
    }
   ],
   "source": [
    "# Classe *atual* na base de teste digits\n",
    "y1_test"
   ]
  },
  {
   "cell_type": "markdown",
   "metadata": {},
   "source": [
    "<br/>\n",
    "<h3 align=\"left\"> <span style = 'color:green'> Avaliando o desempenho do Classificador    </span> </h3>\n"
   ]
  },
  {
   "cell_type": "code",
   "execution_count": 17,
   "metadata": {},
   "outputs": [
    {
     "name": "stdout",
     "output_type": "stream",
     "text": [
      "Acurácia do GaussianNB - Iris:  0.95\n"
     ]
    },
    {
     "data": {
      "image/png": "[encoded data removed]",
      "text/plain": [
       "<Figure size 432x288 with 1 Axes>"
      ]
     },
     "metadata": {
      "needs_background": "light"
     },
     "output_type": "display_data"
    }
   ],
   "source": [
    "# Mostrando a matriz de confusão\n",
    "from sklearn.metrics import confusion_matrix as cf\n",
    "import seaborn as sns\n",
    "\n",
    "conf = cf(y_test, y_predict)\n",
    "\n",
    "\n",
    "\n",
    "print(\"Acurácia do GaussianNB - Iris: {0: .2f}\"\n",
    "      .format(1 - (y_test != y_predict).sum()/y_test.shape[0]))\n",
    "\n",
    "sns.heatmap(conf.T, square=True, annot=True, fmt='d', cbar=False)\n",
    "plt.xlabel('Classe verdadeira')\n",
    "plt.ylabel('Classe predita')\n",
    "plt.title('Matriz de Confusão Base Iris')\n",
    "plt.show()\n",
    "\n",
    "\n",
    "\n"
   ]
  },
  {
   "cell_type": "code",
   "execution_count": 18,
   "metadata": {},
   "outputs": [
    {
     "name": "stdout",
     "output_type": "stream",
     "text": [
      "Acurácia do GaussianNB - Digits:  0.87\n"
     ]
    },
    {
     "data": {
      "image/png": "[encoded data removed]",
      "text/plain": [
       "<Figure size 432x288 with 1 Axes>"
      ]
     },
     "metadata": {
      "needs_background": "light"
     },
     "output_type": "display_data"
    }
   ],
   "source": [
    "from sklearn.metrics import confusion_matrix as cf\n",
    "import seaborn as sns\n",
    "\n",
    "\n",
    "conf1 = cf(y1_test, y1_predict)\n",
    "\n",
    "\n",
    "\n",
    "print(\"Acurácia do GaussianNB - Digits: {0: .2f}\"\n",
    "      .format(1 - (y1_test != y1_predict).sum()/y1_test.shape[0]))\n",
    "\n",
    "sns.heatmap(conf1.T, square=True, annot=True, fmt='d', cbar=False)\n",
    "plt.xlabel('Classe verdadeira')\n",
    "plt.ylabel('Classe predita')\n",
    "plt.title('Matriz de Confusão Base Digits')\n",
    "plt.show()\n"
   ]
  },
  {
   "cell_type": "code",
   "execution_count": 19,
   "metadata": {},
   "outputs": [
    {
     "name": "stdout",
     "output_type": "stream",
     "text": [
      "****************************************\n",
      "Acurácia do GaussianNB - Iris= 94.74%\n",
      "****************************************\n",
      "Acurácia do GaussianNB - Digits= 86.67%\n",
      "****************************************\n"
     ]
    }
   ],
   "source": [
    "from sklearn.metrics import accuracy_score\n",
    "\n",
    "print(40 * '*')\n",
    "#print(\"Acurácia : {0: .2f}%\"\n",
    "#      .format(1 - (y_test != y_predict).sum()/y_test.shape[0]))\n",
    "\n",
    "\n",
    "\n",
    "print('Acurácia do GaussianNB - Iris= %.2f%%' % (accuracy_score(y_test, y_predict) * 100))\n",
    "\n",
    "\n",
    "print(40 * '*')\n",
    "\n",
    "print('Acurácia do GaussianNB - Digits= %.2f%%' % (accuracy_score(y1_test, y1_predict) * 100))\n",
    "\n",
    "      \n",
    "print(40 * '*')"
   ]
  },
  {
   "cell_type": "code",
   "execution_count": null,
   "metadata": {},
   "outputs": [],
   "source": []
  },
  {
   "cell_type": "code",
   "execution_count": null,
   "metadata": {},
   "outputs": [],
   "source": []
  }
 ],
 "metadata": {
  "kernelspec": {
   "display_name": "Python 3",
   "language": "python",
   "name": "python3"
  },
  "language_info": {
   "codemirror_mode": {
    "name": "ipython",
    "version": 3
   },
   "file_extension": ".py",
   "mimetype": "text/x-python",
   "name": "python",
   "nbconvert_exporter": "python",
   "pygments_lexer": "ipython3",
   "version": "3.6.7"
  }
 },
 "nbformat": 4,
 "nbformat_minor": 2
}
