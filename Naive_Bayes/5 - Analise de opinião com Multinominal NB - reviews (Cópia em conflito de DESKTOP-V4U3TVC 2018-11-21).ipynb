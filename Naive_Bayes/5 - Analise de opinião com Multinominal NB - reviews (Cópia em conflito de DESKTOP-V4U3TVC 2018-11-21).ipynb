{
 "cells": [
  {
   "cell_type": "markdown",
   "metadata": {},
   "source": [
    "<br/>\n",
    "<h1 align=\"center\"> <span style = 'color:red'> Analise de Opinião com método TF-IDF - Multinomial NB\n",
    "</span> </h1>\n",
    "<br/>\n",
    "\n",
    "<br/>\n",
    "\n",
    "<br/>\n",
    "<h3 align=\"left\"> <span style = 'color:green'> No notebook \"6  - Utilizando TF-IDF para classificação de texto\" tem a explicação desse método\n",
    "</span> </h3>\n",
    "<br/>\n",
    "<br/>\n",
    "\n",
    " \n",
    "\n",
    "\n"
   ]
  },
  {
   "cell_type": "markdown",
   "metadata": {},
   "source": [
    "<br/>\n",
    "<h3 align=\"left\"> <span style = 'color:green'>   Importando as bibliotecas  </span> </h3>"
   ]
  },
  {
   "cell_type": "code",
   "execution_count": 1,
   "metadata": {},
   "outputs": [],
   "source": [
    "import pandas as pd\n",
    "import numpy as np\n",
    "import nltk\n",
    "from sklearn import naive_bayes\n",
    "from nltk.corpus import stopwords\n",
    "from sklearn.feature_extraction.text import TfidfVectorizer\n",
    "from sklearn.model_selection import train_test_split\n",
    "from sklearn.metrics import roc_auc_score"
   ]
  },
  {
   "cell_type": "markdown",
   "metadata": {},
   "source": [
    "\n",
    "<br/>\n",
    "<h3 align=\"left\"> <span style = 'color:green'> Base de dados em arquivo texto txt separado por tabulação    </span> </h3>\n"
   ]
  },
  {
   "cell_type": "code",
   "execution_count": 2,
   "metadata": {},
   "outputs": [],
   "source": [
    "df = pd.read_csv(\"movie_reviews.txt\",sep = '\\t', names = ['polarity','review'])"
   ]
  },
  {
   "cell_type": "markdown",
   "metadata": {},
   "source": [
    "<br/>\n",
    "<h3 align=\"left\"> <span style = 'color:green'> Mostrando  os 5 primeiros registros   </span> </h3>"
   ]
  },
  {
   "cell_type": "code",
   "execution_count": 3,
   "metadata": {},
   "outputs": [
    {
     "data": {
      "text/html": [
       "<div>\n",
       "<style scoped>\n",
       "    .dataframe tbody tr th:only-of-type {\n",
       "        vertical-align: middle;\n",
       "    }\n",
       "\n",
       "    .dataframe tbody tr th {\n",
       "        vertical-align: top;\n",
       "    }\n",
       "\n",
       "    .dataframe thead th {\n",
       "        text-align: right;\n",
       "    }\n",
       "</style>\n",
       "<table border=\"1\" class=\"dataframe\">\n",
       "  <thead>\n",
       "    <tr style=\"text-align: right;\">\n",
       "      <th></th>\n",
       "      <th>polarity</th>\n",
       "      <th>review</th>\n",
       "    </tr>\n",
       "  </thead>\n",
       "  <tbody>\n",
       "    <tr>\n",
       "      <th>19152</th>\n",
       "      <td>0</td>\n",
       "      <td>Celia Johnson is good as the Nurse. Michael Ho...</td>\n",
       "    </tr>\n",
       "    <tr>\n",
       "      <th>3852</th>\n",
       "      <td>1</td>\n",
       "      <td>Reign Over Me (titled after the who song) is a...</td>\n",
       "    </tr>\n",
       "    <tr>\n",
       "      <th>10946</th>\n",
       "      <td>1</td>\n",
       "      <td>*WARNING* Spoilers ahead... The writers of thi...</td>\n",
       "    </tr>\n",
       "    <tr>\n",
       "      <th>15321</th>\n",
       "      <td>0</td>\n",
       "      <td>The worst movie I have seen in quite a while. ...</td>\n",
       "    </tr>\n",
       "    <tr>\n",
       "      <th>10477</th>\n",
       "      <td>1</td>\n",
       "      <td>If you have never viewed this film and like ol...</td>\n",
       "    </tr>\n",
       "  </tbody>\n",
       "</table>\n",
       "</div>"
      ],
      "text/plain": [
       "       polarity                                             review\n",
       "19152         0  Celia Johnson is good as the Nurse. Michael Ho...\n",
       "3852          1  Reign Over Me (titled after the who song) is a...\n",
       "10946         1  *WARNING* Spoilers ahead... The writers of thi...\n",
       "15321         0  The worst movie I have seen in quite a while. ...\n",
       "10477         1  If you have never viewed this film and like ol..."
      ]
     },
     "execution_count": 3,
     "metadata": {},
     "output_type": "execute_result"
    }
   ],
   "source": [
    "df.sample(5)"
   ]
  },
  {
   "cell_type": "markdown",
   "metadata": {},
   "source": [
    "<br/>\n",
    "<h3 align=\"left\"> <span style = 'color:green'> Verificando se a base está balanceada    </span> </h3>"
   ]
  },
  {
   "cell_type": "code",
   "execution_count": 7,
   "metadata": {},
   "outputs": [
    {
     "name": "stdout",
     "output_type": "stream",
     "text": [
      "****************************************\n",
      "Quantidade de opinião positiva:  12500\n",
      "****************************************\n",
      "Quantidade de opinião negativa:  12500\n",
      "****************************************\n",
      "****************************************\n",
      "Base balanceada\n"
     ]
    }
   ],
   "source": [
    "# Verificando se a base está balanceada\n",
    "print(40 * '*')\n",
    "print(\"Quantidade de opinião positiva: \", df[df[\"polarity\"]==1].count()[\"polarity\"])\n",
    "print(40 * '*')\n",
    "print(\"Quantidade de opinião negativa: \", df[df[\"polarity\"]==0].count()[\"polarity\"])\n",
    "print(40 * '*')\n",
    "print(40 * '*')\n",
    "\n",
    "print('Base balanceada')"
   ]
  },
  {
   "cell_type": "markdown",
   "metadata": {},
   "source": [
    "<br/>\n",
    "<br/>\n",
    "<h3 align=\"left\"> <span style = 'color:green'> Criando uma lista de stopwords  em ingles </span> </h3>\n",
    "<br/>\n"
   ]
  },
  {
   "cell_type": "code",
   "execution_count": 8,
   "metadata": {},
   "outputs": [],
   "source": [
    "# variavel que vai receber as stopwords\n",
    "stopset = set(stopwords.words('english'))"
   ]
  },
  {
   "cell_type": "markdown",
   "metadata": {},
   "source": [
    "<br/>\n",
    "<br/>\n",
    "<h3 align=\"left\"> <span style = 'color:green'>  Criando  matriz de TF-IDF de pesos das palavras no documento   </span> </h3>\n",
    "<br/>\n",
    "\n",
    "\n",
    "**Fazendo um processamento simple do texto:**\n",
    "\n",
    "\n",
    "* todas para minusculas\n",
    "\n",
    "\n",
    "* Retirada de acentos\n",
    "\n",
    "\n",
    "* Remoção de stopwords"
   ]
  },
  {
   "cell_type": "code",
   "execution_count": 9,
   "metadata": {},
   "outputs": [],
   "source": [
    "\n",
    "#matriz de pesos das palavras tf-idf\n",
    "\n",
    "vectorizer = TfidfVectorizer(use_idf = True, lowercase = True, strip_accents= 'ascii', stop_words = stopset)"
   ]
  },
  {
   "cell_type": "markdown",
   "metadata": {},
   "source": [
    "<br/>\n",
    "<br/>\n",
    "<h3 align=\"left\"> <span style = 'color:green'> Nomeando a entrada e a saída e dividindo a base    </span> </h3>\n",
    "<br/>\n",
    "\n",
    "\n",
    "\n"
   ]
  },
  {
   "cell_type": "code",
   "execution_count": 22,
   "metadata": {},
   "outputs": [],
   "source": [
    "#variavel de saída y --- polaridade\n",
    "y = df.polarity \n",
    "\n",
    "#variavel de entrada sendo treinada\n",
    "X = vectorizer.fit_transform(df.review) \n",
    "\n",
    "\n",
    "#divisão da base treinamento e teste\n",
    "X_train, X_test,y_train, y_test = train_test_split(X, y,test_size=0.2, random_state=1)"
   ]
  },
  {
   "cell_type": "markdown",
   "metadata": {},
   "source": [
    "<br/>\n",
    "<br/>\n",
    "\n",
    "<h3 align=\"left\"> <span style = 'color:green'>  Criando o Modelo  MultinomialNB  </span> </h3>\n",
    "<br/>\n"
   ]
  },
  {
   "cell_type": "code",
   "execution_count": 23,
   "metadata": {},
   "outputs": [
    {
     "data": {
      "text/plain": [
       "MultinomialNB(alpha=1.0, class_prior=None, fit_prior=True)"
      ]
     },
     "execution_count": 23,
     "metadata": {},
     "output_type": "execute_result"
    }
   ],
   "source": [
    "from sklearn.naive_bayes import MultinomialNB\n",
    "\n",
    "#criando modelo\n",
    "MNB = MultinomialNB()\n",
    "\n",
    "\n",
    "#treinando modelo\n",
    "MNB.fit(X_train,y_train)\n",
    "\n"
   ]
  },
  {
   "cell_type": "markdown",
   "metadata": {},
   "source": [
    "\n",
    "<br/>\n",
    "<br/>\n",
    "\n",
    "<h3 align=\"left\"> <span style = 'color:green'> Avaliando o Desempenho do classificador  MultinomialNB   </span> </h3>\n",
    "<br/>\n"
   ]
  },
  {
   "cell_type": "code",
   "execution_count": 24,
   "metadata": {},
   "outputs": [
    {
     "name": "stdout",
     "output_type": "stream",
     "text": [
      "********************\n",
      "Acurácia: 86.48%\n",
      "********************\n",
      "\t\t\tMatriz de Confusão\n",
      "************************************************************\n",
      "              precision    recall  f1-score   support\n",
      "\n",
      "           0       0.85      0.88      0.87      2483\n",
      "           1       0.88      0.85      0.86      2517\n",
      "\n",
      "   micro avg       0.86      0.86      0.86      5000\n",
      "   macro avg       0.87      0.86      0.86      5000\n",
      "weighted avg       0.87      0.86      0.86      5000\n",
      "\n"
     ]
    }
   ],
   "source": [
    "from sklearn.metrics import confusion_matrix,accuracy_score\n",
    "from sklearn.metrics import classification_report\n",
    "\n",
    "#predizendo os resultados do teste\n",
    "y_pred = MNB.predict(X_test)\n",
    "\n",
    "\n",
    "print(20 * '*')\n",
    "print(\"Acurácia: {0:.2%}\".format(accuracy_score(y_test,y_pred)))\n",
    "print(20 * '*')\n",
    "print('\\t\\t\\tMatriz de Confusão')\n",
    "print(60 * '*')\n",
    "print(classification_report(y_test, y_pred))\n"
   ]
  },
  {
   "cell_type": "markdown",
   "metadata": {},
   "source": [
    "<br/>\n",
    "<br/>\n",
    "\n",
    "<h3 align=\"left\"> <span style = 'color:green'> Mostrando as palavras consideradas negativas e positivas    </span> </h3>\n",
    "<br/>\n",
    "\n",
    "\n",
    "\n"
   ]
  },
  {
   "cell_type": "code",
   "execution_count": 13,
   "metadata": {},
   "outputs": [
    {
     "name": "stdout",
     "output_type": "stream",
     "text": [
      "------------------------------------------------------------------------------------------------------------------\n",
      "Negativas :jawaharlal, nehru, stealling, ryoga, vacuous, skateboard, skaters, skate, tricktris, premade\n",
      "------------------------------------------------------------------------------------------------------------------\n",
      "Positivas :time, see, well, story, like, good, great, one, film, movie\n"
     ]
    }
   ],
   "source": [
    "words_polarity = []\n",
    "\n",
    "for word in vectorizer.vocabulary_:\n",
    "    index =  vectorizer.vocabulary_[word]\n",
    "    words_polarity.append((word, MNB.coef_[0][index]))\n",
    "\n",
    "words_polarity = sorted(words_polarity, key=lambda x: x[1])\n",
    "\n",
    "\n",
    "print('------------------------------------------------------------------------------------------------------------------')\n",
    "print(\"Negativas :\" + \", \".join([str(x[0]) for x in words_polarity[:10]]))\n",
    "print('------------------------------------------------------------------------------------------------------------------')\n",
    "print(\"Positivas :\" + \", \".join([str(x[0]) for x in words_polarity[-10:]]))"
   ]
  },
  {
   "cell_type": "markdown",
   "metadata": {},
   "source": [
    "\n",
    "<br/>\n",
    "<br/>\n",
    "<h3 align=\"left\"> <span style = 'color:green'>Testando o modelo com novos documentos - frases </span> </h3>\n",
    "<br/>\n",
    "\n",
    "\n"
   ]
  },
  {
   "cell_type": "code",
   "execution_count": 14,
   "metadata": {},
   "outputs": [
    {
     "name": "stdout",
     "output_type": "stream",
     "text": [
      "I liked the movie 1\n",
      "I hate this character 0\n",
      "The plot of the movie was interesting 0\n",
      "It has been and amazing depiction of charaters 1\n",
      "Movie was boring 0\n"
     ]
    }
   ],
   "source": [
    "for word in [[\"I liked the movie\"],[\"I hate this character\"],\n",
    "             [\"The plot of the movie was interesting\"],\n",
    "             [\"It has been and amazing depiction of charaters\"],\n",
    "             [\"Movie was boring\"]]:\n",
    "    review_word = np.array(word)\n",
    "    review_vector = vectorizer.transform(review_word)\n",
    "    print(str(word[0]) + \" \" + str(MNB.predict(review_vector)[0]))"
   ]
  },
  {
   "cell_type": "markdown",
   "metadata": {},
   "source": [
    "<h3 align=\"left\"> <span style = 'color:green'>Faça um teste, escreva algumas frase   </span> </h3>\n",
    "<br/>\n"
   ]
  },
  {
   "cell_type": "code",
   "execution_count": 15,
   "metadata": {},
   "outputs": [
    {
     "name": "stdout",
     "output_type": "stream",
     "text": [
      "XXXXXXXXXXXXXXX 0\n",
      "XXXXXXXXXXXXXXXXX 0\n"
     ]
    }
   ],
   "source": [
    "for word in [[\"XXXXXXXXXXXXXXX\"],[\"XXXXXXXXXXXXXXXXX\"]]:\n",
    "    review_word = np.array(word)\n",
    "    review_vector = vectorizer.transform(review_word)\n",
    "    print(str(word[0]) + \" \" + str(MNB.predict(review_vector)[0]))"
   ]
  },
  {
   "cell_type": "code",
   "execution_count": null,
   "metadata": {},
   "outputs": [],
   "source": []
  }
 ],
 "metadata": {
  "kernelspec": {
   "display_name": "Python 3",
   "language": "python",
   "name": "python3"
  },
  "language_info": {
   "codemirror_mode": {
    "name": "ipython",
    "version": 3
   },
   "file_extension": ".py",
   "mimetype": "text/x-python",
   "name": "python",
   "nbconvert_exporter": "python",
   "pygments_lexer": "ipython3",
   "version": "3.6.7"
  }
 },
 "nbformat": 4,
 "nbformat_minor": 2
}
