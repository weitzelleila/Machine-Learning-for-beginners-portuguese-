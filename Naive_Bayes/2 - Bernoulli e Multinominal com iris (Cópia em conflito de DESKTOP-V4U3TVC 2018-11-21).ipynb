{
 "cells": [
  {
   "cell_type": "markdown",
   "metadata": {},
   "source": [
    "<br/>\n",
    "<h1 align=\"center\"> <span style = 'color:red'> Bernoulli e  Multinomial com iris </span> </h1>\n",
    "<br/>\n",
    "\n"
   ]
  },
  {
   "cell_type": "markdown",
   "metadata": {},
   "source": [
    "<br/>\n",
    "<h1 align=\"left\"> <span style = 'color:blue'> Bernoulli é ideal para saida binária e Multinominal para saida multiclasse\n",
    "</span> </h1>\n",
    "<br/>\n"
   ]
  },
  {
   "cell_type": "markdown",
   "metadata": {},
   "source": [
    "<br/>\n",
    "<h3 align=\"left\"> <span style = 'color:green'> Importando Biblioteca</span> </h3>\n"
   ]
  },
  {
   "cell_type": "code",
   "execution_count": 2,
   "metadata": {},
   "outputs": [],
   "source": [
    "from sklearn.datasets import load_iris \n",
    "from sklearn.naive_bayes import MultinomialNB\n",
    "from sklearn.naive_bayes import BernoulliNB\n",
    "from sklearn.model_selection import train_test_split \n",
    "from sklearn import metrics"
   ]
  },
  {
   "cell_type": "markdown",
   "metadata": {},
   "source": [
    "<br/>\n",
    "<h3 align=\"left\"> <span style = 'color:green'>  Importando base para cada modelo   </span> </h3>\n"
   ]
  },
  {
   "cell_type": "code",
   "execution_count": 3,
   "metadata": {},
   "outputs": [],
   "source": [
    "iris_BNB = load_iris()\n",
    "\n",
    "iris_MNB = load_iris()"
   ]
  },
  {
   "cell_type": "markdown",
   "metadata": {},
   "source": [
    "<br/>\n",
    "<h3 align=\"left\"> <span style = 'color:green'> Nomeando entrada e saíde de dados    </span> </h3>\n"
   ]
  },
  {
   "cell_type": "code",
   "execution_count": 4,
   "metadata": {},
   "outputs": [],
   "source": [
    "# store the feature matrix (X) and response vector (y) \n",
    "\n",
    "X_BNB = iris_BNB.data \n",
    "y_BNB = iris_BNB.target \n",
    "\n",
    "\n",
    "X_MNB = iris_MNB.data \n",
    "y_MNB = iris_MNB.target \n"
   ]
  },
  {
   "cell_type": "markdown",
   "metadata": {},
   "source": [
    "<h3 align=\"left\"> <span style = 'color:green'>  dividindo a base em treinamento e teste   </span> </h3>"
   ]
  },
  {
   "cell_type": "code",
   "execution_count": 5,
   "metadata": {},
   "outputs": [],
   "source": [
    "X_train_BNB, X_test_BNB, y_train_BNB, y_test_BNB = train_test_split(X_BNB, y_BNB, test_size=0.4, random_state=1) \n",
    "\n",
    "\n",
    "X_train_MNB, X_test_MNB, y_train_MNB, y_test_MNB = train_test_split(X_MNB, y_MNB, test_size=0.4, random_state=1) \n"
   ]
  },
  {
   "cell_type": "markdown",
   "metadata": {},
   "source": [
    "<h3 align=\"left\"> <span style = 'color:green'>  Criando o modelo MultinomialNB   </span> </h3>\n",
    "<br/>"
   ]
  },
  {
   "cell_type": "code",
   "execution_count": 8,
   "metadata": {},
   "outputs": [
    {
     "data": {
      "text/plain": [
       "BernoulliNB(alpha=1.0, binarize=0.0, class_prior=None, fit_prior=True)"
      ]
     },
     "execution_count": 8,
     "metadata": {},
     "output_type": "execute_result"
    }
   ],
   "source": [
    "# training the model on training set \n",
    "\n",
    "\n",
    "#criando modelo\n",
    "gnb_MNB = MultinomialNB() \n",
    "\n",
    "#treinando modelo\n",
    "gnb_MNB.fit(X_train_MNB, y_train_MNB) \n",
    "\n",
    "\n",
    "\n",
    "\n",
    "#criando modelo\n",
    "gnb_BNB = BernoulliNB() \n",
    "\n",
    "#treinando modelo\n",
    "gnb_BNB.fit(X_train_BNB, y_train_BNB) \n",
    "\n",
    "\n",
    "\n"
   ]
  },
  {
   "cell_type": "code",
   "execution_count": 9,
   "metadata": {},
   "outputs": [],
   "source": [
    "\n",
    "# Fazendo predições\n",
    "\n",
    "y_pred_BNB = gnb_BNB.predict(X_test_BNB)      \n",
    "\n",
    "\n",
    "y_pred_MNB = gnb_MNB.predict(X_test_MNB) \n",
    "\n"
   ]
  },
  {
   "cell_type": "markdown",
   "metadata": {},
   "source": [
    "<h3 align=\"left\"> <span style = 'color:green'>  Avaliando o desempenho dos dois classificadores </span> </h3>\n",
    "<br/>"
   ]
  },
  {
   "cell_type": "code",
   "execution_count": 10,
   "metadata": {},
   "outputs": [
    {
     "name": "stdout",
     "output_type": "stream",
     "text": [
      "************************************************************\n",
      "Acurácia Multinominal Naive Bayes = 93.33%\n",
      "************************************************************\n"
     ]
    }
   ],
   "source": [
    "print(60 * '*')\n",
    "print('Acurácia Multinominal Naive Bayes = %.2f%%' % (metrics.accuracy_score(y_test_MNB, y_pred_MNB)*100))\n",
    "print(60 * '*')"
   ]
  },
  {
   "cell_type": "code",
   "execution_count": 11,
   "metadata": {},
   "outputs": [
    {
     "name": "stdout",
     "output_type": "stream",
     "text": [
      "************************************************************\n",
      "Acurácia Multinominal Naive Bayes = 31.67%\n",
      "************************************************************\n"
     ]
    }
   ],
   "source": [
    "print(60 * '*')\n",
    "print('Acurácia Bernoulli Naive Bayes = %.2f%%' % (metrics.accuracy_score(y_test_BNB, y_pred_BNB)*100))\n",
    "print(60 * '*')"
   ]
  },
  {
   "cell_type": "markdown",
   "metadata": {},
   "source": [
    "\n",
    "* **Os rotulos de saída da base iris são 3: setosa, virginica e versicolor**\n",
    "\n",
    "\n",
    "    * O Classificador Multinomial foi melhor pois é ideal para saida múltiplas\n",
    "\n",
    "    * O classificador Bernoulli é ideal para saida binária"
   ]
  },
  {
   "cell_type": "code",
   "execution_count": null,
   "metadata": {},
   "outputs": [],
   "source": []
  }
 ],
 "metadata": {
  "kernelspec": {
   "display_name": "Python 3",
   "language": "python",
   "name": "python3"
  },
  "language_info": {
   "codemirror_mode": {
    "name": "ipython",
    "version": 3
   },
   "file_extension": ".py",
   "mimetype": "text/x-python",
   "name": "python",
   "nbconvert_exporter": "python",
   "pygments_lexer": "ipython3",
   "version": "3.6.7"
  }
 },
 "nbformat": 4,
 "nbformat_minor": 2
}
